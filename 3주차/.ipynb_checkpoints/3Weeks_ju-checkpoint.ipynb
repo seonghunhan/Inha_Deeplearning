{
 "cells": [
  {
   "cell_type": "code",
   "execution_count": 2,
   "id": "a943b163",
   "metadata": {},
   "outputs": [],
   "source": [
    "import numpy as np\n",
    "\n",
    "def AND (x1, x2) : # AND 연산자 함수\n",
    "    x= np.array([x1, x2])\n",
    "    w = np.array([10, 10])\n",
    "    b = -15\n",
    "\n",
    "    tmp = np.sum(w*x) + b\n",
    "    if tmp <= 0:\n",
    "        return 0\n",
    "    else :\n",
    "        return 1"
   ]
  },
  {
   "cell_type": "code",
   "execution_count": 3,
   "id": "a5d1a9fd",
   "metadata": {},
   "outputs": [],
   "source": [
    "def OR(x1, x2) : # OR 연산자 함수\n",
    "    x = np.array([x1,x2])\n",
    "    w = np.array([9, 9])\n",
    "    b = -4\n",
    "\n",
    "    tmp = np.sum(w*x) + b\n",
    "    if tmp <= 0:\n",
    "        return 0\n",
    "    else:\n",
    "        return 1"
   ]
  },
  {
   "cell_type": "code",
   "execution_count": 4,
   "id": "2c49c4eb",
   "metadata": {},
   "outputs": [],
   "source": [
    "def NAND(x1,x2) : # NAND 연산자 함수\n",
    "    x = np.array([x1,x2])\n",
    "    w = np.array([-8, -8])\n",
    "    b = 10\n",
    "\n",
    "    tmp = np.sum(w*x) + b\n",
    "    if tmp <= 0:\n",
    "        return 0\n",
    "    else :\n",
    "        return 1"
   ]
  },
  {
   "cell_type": "code",
   "execution_count": 5,
   "id": "489f1334",
   "metadata": {},
   "outputs": [],
   "source": [
    "def NAND_OR(x1, x2) : # NAND연산자를 이용하여 OR연산자 구현함수\n",
    "    NAND1 = (NAND(x1,x1))\n",
    "    NAND2 = (NAND(x2,x2))\n",
    "\n",
    "    result = NAND(NAND1, NAND2)\n",
    "\n",
    "    return result "
   ]
  },
  {
   "cell_type": "code",
   "execution_count": 6,
   "id": "119afef7",
   "metadata": {},
   "outputs": [
    {
     "name": "stdout",
     "output_type": "stream",
     "text": [
      "OR\n",
      "0\n",
      "1\n",
      "1\n",
      "1\n",
      "-------------------------------\n",
      "AND연산자\n",
      "0\n",
      "0\n",
      "0\n",
      "1\n",
      "-------------------------------\n",
      "NAND연산자\n",
      "1\n",
      "1\n",
      "1\n",
      "0\n",
      "-------------------------------\n",
      "2번과제\n",
      "0\n",
      "1\n",
      "1\n",
      "1\n",
      "-------------------------------\n"
     ]
    }
   ],
   "source": [
    "print(\"OR\")\n",
    "print(OR(0,0))\n",
    "print(OR(0,1))\n",
    "print(OR(1,0))\n",
    "print(OR(1,1))\n",
    "print(\"-------------------------------\")\n",
    "print(\"AND연산자\")\n",
    "print(AND(0,0))\n",
    "print(AND(0,1))\n",
    "print(AND(1,0))\n",
    "print(AND(1,1))\n",
    "print(\"-------------------------------\")\n",
    "print(\"NAND연산자\")\n",
    "print(NAND(0,0))\n",
    "print(NAND(0,1))\n",
    "print(NAND(1,0))\n",
    "print(NAND(1,1))\n",
    "print(\"-------------------------------\")\n",
    "print(\"2번과제\")\n",
    "print(NAND_OR(0,0))\n",
    "print(NAND_OR(0,1))\n",
    "print(NAND_OR(1,0))\n",
    "print(NAND_OR(1,1))\n",
    "print(\"-------------------------------\")"
   ]
  },
  {
   "cell_type": "code",
   "execution_count": null,
   "id": "ca1b9ac7",
   "metadata": {},
   "outputs": [],
   "source": []
  }
 ],
 "metadata": {
  "kernelspec": {
   "display_name": "Python 3",
   "language": "python",
   "name": "python3"
  },
  "language_info": {
   "codemirror_mode": {
    "name": "ipython",
    "version": 3
   },
   "file_extension": ".py",
   "mimetype": "text/x-python",
   "name": "python",
   "nbconvert_exporter": "python",
   "pygments_lexer": "ipython3",
   "version": "3.8.8"
  }
 },
 "nbformat": 4,
 "nbformat_minor": 5
}
